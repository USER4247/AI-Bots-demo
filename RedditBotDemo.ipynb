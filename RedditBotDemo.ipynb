{
  "nbformat": 4,
  "nbformat_minor": 0,
  "metadata": {
    "colab": {
      "provenance": []
    },
    "kernelspec": {
      "name": "python3",
      "display_name": "Python 3"
    },
    "language_info": {
      "name": "python"
    }
  },
  "cells": [
    {
      "cell_type": "markdown",
      "source": [
        "# **# 🚀 Reddit Bot Demo**\n",
        "\n",
        "### 🔍 Description\n",
        "This notebook demonstrates a Reddit bot developed as part of the Pelton Technology Inc. assessment.  \n",
        "It features keyword filtering, topic relevance scoring using transformer models, and comment generation logic aligned with a specific personality profile (e.g., Indian politics and pop culture).  \n",
        "The bot uses semantic similarity techniques to evaluate post titles before deciding to engage."
      ],
      "metadata": {
        "id": "y4N-5Fj1cEj8"
      }
    },
    {
      "cell_type": "code",
      "source": [
        "\n",
        "#Install necessary packages in Colab\n",
        "!pip install -U pip  # Upgrade pip first\n",
        "!pip install -U sentence-transformers transformers praw\n",
        "!pip install tqdm\n",
        "!pip install google-generativeai\n"
      ],
      "metadata": {
        "id": "NSZI27npdaz8"
      },
      "execution_count": null,
      "outputs": []
    },
    {
      "cell_type": "code",
      "source": [
        "# important since there is a dependency mismatch from providers of module\n",
        "!pip uninstall -y transformers\n",
        "!pip install transformers==4.40.2\n",
        "!pip install sentence-transformers"
      ],
      "metadata": {
        "id": "u9nGEIiQhr1X"
      },
      "execution_count": null,
      "outputs": []
    },
    {
      "cell_type": "code",
      "source": [
        "#important imports\n",
        "import praw\n",
        "import json\n",
        "import os\n",
        "import random\n",
        "import time\n",
        "import threading\n",
        "from datetime import datetime\n",
        "from sentence_transformers import SentenceTransformer, util\n",
        "import google.generativeai as genai\n",
        "import sqlite3"
      ],
      "metadata": {
        "id": "uHEokTPadVsz"
      },
      "execution_count": 12,
      "outputs": []
    },
    {
      "cell_type": "markdown",
      "source": [
        "Add reddit configuration here"
      ],
      "metadata": {
        "id": "INgXyn4ucfpX"
      }
    },
    {
      "cell_type": "code",
      "source": [
        "botConfig = [{\n",
        "          \"botID\": \"1\",\n",
        "          \"client_id\": \"xxxxxxxxxx\", # Client Id for reddit\n",
        "          \"username\": \"xxxxxxxxxx\", # Bot name\n",
        "          \"mail\": \"xxxxxxxx\", # Put your mail here for reddit bot !\n",
        "          \"interest\": \"Pc Gaming\", # Or any other interesting genere for bot\n",
        "          \"password\": \"xxxxxxxxx\", # password of reddit bot account\n",
        "          \"secret\": \"xxxxxxx\", # client secret of app for reddit\n",
        "          \"bot-personality\": \" Gamer , technology , scriptKiddie , nerdyhelper\", # or any other bot personality traits to define pot's personality to avoit homogeneous bot responses and humanise as much as possible\n",
        "}]"
      ],
      "metadata": {
        "id": "PAI_axYCceiv"
      },
      "execution_count": 6,
      "outputs": []
    },
    {
      "cell_type": "markdown",
      "source": [
        "Reddit Filter configurations . You can tweek these according to your needs ."
      ],
      "metadata": {
        "id": "2PQguQhmczGz"
      }
    },
    {
      "cell_type": "code",
      "execution_count": 7,
      "metadata": {
        "id": "us8cyp7Lb9k5"
      },
      "outputs": [],
      "source": [
        "# Configuration to filter posts based on what-so every you would like\n",
        "filterConf = {\n",
        "    \"nsfw\": 0,\n",
        "    \"stickied\": 0,\n",
        "    \"locked\": 0,\n",
        "    \"archived\": 0,\n",
        "    \"is_self\": 1,\n",
        "    \"has_media\": 1,\n",
        "    \"score_min\": 5,\n",
        "    \"comment_count_min\": 10,\n",
        "    \"flair_text\": \"Discussion\",\n",
        "    \"title_contains\": [\n",
        "        \"AMA\",\n",
        "        \"Ask\",\n",
        "        \"TIL\"\n",
        "    ],\n",
        "    \"ignore_flair\": [\n",
        "        \"Meme\",\n",
        "        \"Shitpost\"\n",
        "    ]\n",
        "}"
      ]
    },
    {
      "cell_type": "markdown",
      "source": [
        "Add Sub-Reddits to scan content in"
      ],
      "metadata": {
        "id": "9KuIcwY3dG-G"
      }
    },
    {
      "cell_type": "code",
      "source": [
        "# Put the subreddits you would like to scrape and comment on for your own narrative\n",
        "subReddits = ['India', 'AskReddit']"
      ],
      "metadata": {
        "id": "Q-b4-H1ZdOoG"
      },
      "execution_count": 8,
      "outputs": []
    },
    {
      "cell_type": "markdown",
      "source": [
        "Gemini Api Key and Secrets to generate comment"
      ],
      "metadata": {
        "id": "_J-xKojdjksT"
      }
    },
    {
      "cell_type": "code",
      "source": [
        "# Demo uses Gemini-API\n",
        "gemini_api = {\n",
        "  \"api_key\": \"xxxxxxxx\" # Please put your gemini-api key here\n",
        "}"
      ],
      "metadata": {
        "id": "-vEKW1sSjqgi"
      },
      "execution_count": 19,
      "outputs": []
    },
    {
      "cell_type": "markdown",
      "source": [
        "KeyWords and BuzzWords dictionary"
      ],
      "metadata": {
        "id": "TIy6K8vfdygD"
      }
    },
    {
      "cell_type": "code",
      "source": [
        "# Keywords for your agenda . This example revolves around Indian politics , pop culture and trends\n",
        "bot_keywords = [\n",
        "        \"Narendra Modi\", \"Rahul Gandhi\", \"Lok Sabha\", \"BJP\", \"Congress\", \"Aam Aadmi Party\",\n",
        "        \"UP elections\", \"India politics\", \"Nehru\", \"RSS\", \"CAA\", \"Kashmir\", \"Ram Mandir\", \"Uniform Civil Code\",\n",
        "\n",
        "        # Pop culture and media\n",
        "        \"Bollywood\", \"Shah Rukh Khan\", \"Deepika Padukone\", \"Ranbir Kapoor\", \"Kangana Ranaut\",\n",
        "        \"Koffee with Karan\", \"Bigg Boss\", \"Indian Idol\", \"OTT\", \"Netflix India\", \"JioCinema\",\n",
        "\n",
        "        # Trends and youth culture\n",
        "        \"influencers\", \"reels\", \"Instagram\", \"YouTube India\", \"Standup comedy\", \"Ashneer Grover\", \"Shark Tank India\",\n",
        "        \"Elvish Yadav\", \"CarryMinati\", \"Tech Burner\", \"BB Ki Vines\", \"desi memes\",\n",
        "\n",
        "        # Social + cultural\n",
        "        \"religion\", \"caste\", \"beef ban\", \"love jihad\", \"hijab ban\", \"farmers protest\", \"gender politics\",\n",
        "        \"women's safety\", \"online trolling\", \"boycott culture\", \"nationalism\", \"freedom of speech\"\n",
        "    ]"
      ],
      "metadata": {
        "id": "fBNm5gFjdx_3"
      },
      "execution_count": 9,
      "outputs": []
    },
    {
      "cell_type": "markdown",
      "source": [],
      "metadata": {
        "id": "bQk_mhaU5v--"
      }
    },
    {
      "cell_type": "markdown",
      "source": [
        "# **BotDemo class , Executing this snippet will auto-comment on your selected sub-reddits based on bot_keywords !**\n",
        "\n",
        "***How does it work ? ***\n",
        "\n",
        "\n",
        "\n",
        "1.   We extract a batch of posts from reddit\n",
        "2.   We measure digree of alignment of topic with respect to our keywords\n",
        "3.   To measure the digree of alignment , we process topic and do sementic analysis using some models from huggingface  designed for sementic analysis\n",
        "4.   We compare the calculated score with the threshold score\n",
        "5.   If the calculated score is greater than threshold score , we generate a comment from Gemini using a template instructing the beheaviour and personality and tone of comment\n",
        "6.   We post comment\n",
        "7.   We store reference to comment and post to a local sqlite database\n",
        "\n",
        "\n",
        "\n",
        "\n"
      ],
      "metadata": {
        "id": "AEtnWx15d71i"
      }
    },
    {
      "cell_type": "code",
      "source": [
        "#\n",
        "model = SentenceTransformer(\"sentence-transformers/all-MiniLM-L6-v2\")\n",
        "\n",
        "threshold_alignment = 0.4\n",
        "bot_keywords = [\"Modi\", \"BJP\", \"Congress\", \"Elections\", \"Bollywood\", \"Kangana\", \"Adani\", \"Rahul Gandhi\", \"UPSC\", \"JNU\", \"India\"]\n",
        "\n",
        "# --- filtering logic ---\n",
        "def postPassesFilter(post):\n",
        "    return not post.stickied and not post.over_18 and len(post.title) > 10\n",
        "\n",
        "# --- Semantic Relevance Check ---\n",
        "def isRelevantToBot(title):\n",
        "    title_embed = model.encode(title, convert_to_tensor=True)\n",
        "    keywords_embed = model.encode(bot_keywords, convert_to_tensor=True)\n",
        "    similarities = util.cos_sim(title_embed, keywords_embed)[0]\n",
        "    max_score = float(similarities.max())\n",
        "    return (max_score > threshold_alignment), max_score\n",
        "\n",
        "# --- Gemini comment generation ---\n",
        "def generateBotComment(title, content):\n",
        "    genai.configure(api_key=gemini_api[\"api_key\"])\n",
        "    model = genai.GenerativeModel(\"gemini-1.5-flash\")\n",
        "\n",
        "    rag_prompt = f\"\"\"\n",
        "      You're an informed Reddit user from India, active in discussions around politics, pop culture, education, and current events.\n",
        "\n",
        "      You tend to:\n",
        "      - Share thoughtful, nuanced takes.\n",
        "      - Speak like a real person (not a bot).\n",
        "      - Keep things casual but insightful.\n",
        "      - Avoid echoing propaganda or taking extreme sides.\n",
        "      - Show awareness of both cultural and factual context.\n",
        "\n",
        "      Now, here’s a post you might want to respond to:\n",
        "\n",
        "      **Title**:\n",
        "      {title}\n",
        "\n",
        "      **Content**:\n",
        "      {content}\n",
        "\n",
        "      Craft a natural-sounding Reddit comment that:\n",
        "      - Feels human and opinionated, not robotic.\n",
        "      - Shows that you’ve understood the topic.\n",
        "      - Might ask a question, add a take, or start a conversation.\n",
        "      - Doesn’t exceed 4–5 sentences.\n",
        "\n",
        "      Keep it real, like something you'd actually post.\n",
        "    \"\"\"\n",
        "\n",
        "    try:\n",
        "        response = model.generate_content(rag_prompt)\n",
        "        return response.text.strip()\n",
        "    except Exception as e:\n",
        "        print(f\"[Gemini Error] {e}\")\n",
        "        return None\n",
        "\n",
        "# --- sqlite DB initialize ---\n",
        "def initDB():\n",
        "    conn = sqlite3.connect(\"bot_results.db\")\n",
        "    cur = conn.cursor()\n",
        "    cur.execute(\"\"\"CREATE TABLE IF NOT EXISTS bot_comments (\n",
        "        id INTEGER PRIMARY KEY AUTOINCREMENT,\n",
        "        timestamp TEXT,\n",
        "        subreddit TEXT,\n",
        "        post_title TEXT,\n",
        "        post_url TEXT,\n",
        "        comment_url TEXT\n",
        "    )\"\"\")\n",
        "    conn.commit()\n",
        "    conn.close()\n",
        "\n",
        "# --- store to sqlite ---\n",
        "def saveToDB(subreddit, post_title, post_url, comment_url):\n",
        "    conn = sqlite3.connect(\"bot_results.db\")\n",
        "    cur = conn.cursor()\n",
        "    cur.execute(\"INSERT INTO bot_comments (timestamp, subreddit, post_title, post_url, comment_url) VALUES (?, ?, ?, ?, ?)\",\n",
        "                (datetime.utcnow().isoformat(), subreddit, post_title, post_url, comment_url))\n",
        "    conn.commit()\n",
        "    conn.close()\n",
        "\n",
        "# --- Bot Class ---\n",
        "class BotDemo:\n",
        "    def __init__(self):\n",
        "        self.botConfig = botConfig\n",
        "        self.multiBot = len(self.botConfig) > 1\n",
        "\n",
        "    # initialize praw\n",
        "    def getPrawInstance(self, bot):\n",
        "        return praw.Reddit(\n",
        "            client_id=bot[\"client_id\"],\n",
        "            client_secret=bot[\"secret\"],\n",
        "            password=bot[\"password\"],\n",
        "            user_agent=\"botDemoUserAgent\",\n",
        "            username=bot[\"username\"]\n",
        "        )\n",
        "\n",
        "    # scan relevant posts from sub-reddits\n",
        "    def scanSubreddit(self, bot_info, sub_list):\n",
        "        reddit = self.getPrawInstance(bot_info)\n",
        "        username = bot_info[\"username\"]\n",
        "\n",
        "        for sub in sub_list:\n",
        "            print(f\"[{username}] Scanning /r/{sub}\")\n",
        "            # mechanism to keep searching 5 batches to get at least 3 relevant posts to comment on\n",
        "            relevant_posts = []\n",
        "            attempts = 0\n",
        "            max_attempts = 5\n",
        "\n",
        "            while len(relevant_posts) < 3 and attempts < max_attempts:\n",
        "                try:\n",
        "                    for post in reddit.subreddit(sub).new(limit=10):\n",
        "                        if not postPassesFilter(post):\n",
        "                            continue\n",
        "\n",
        "                        is_relevant, score = isRelevantToBot(post.title)\n",
        "                        if is_relevant:\n",
        "                            print(f\"  ✅ [{username}] Relevant: {post.title} (score: {score:.2f})\")\n",
        "\n",
        "                            # Generate comment\n",
        "                            comment_text = generateBotComment(post.title, post.selftext or \"[No Content]\")\n",
        "                            if comment_text:\n",
        "                                try:\n",
        "                                    comment = post.reply(comment_text)\n",
        "                                    print(f\"    💬 Commented: {comment.permalink}\")\n",
        "                                    saveToDB(sub, post.title, post.permalink, comment.permalink)\n",
        "                                except Exception as e:\n",
        "                                    print(f\"    ❌ Failed to comment: {e}\")\n",
        "                            else:\n",
        "                                print(f\"    ⚠️ Skipped: Gemini failed to generate\")\n",
        "\n",
        "                            relevant_posts.append(post)\n",
        "                        else:\n",
        "                            print(f\"  ❌ [{username}] Not relevant: {post.title}\")\n",
        "                        if len(relevant_posts) >= 3:\n",
        "                            break\n",
        "                    attempts += 1\n",
        "                    time.sleep(2)\n",
        "                except Exception as e:\n",
        "                    print(f\"[{username}] Error scanning /r/{sub}: {e}\")\n",
        "                    break\n",
        "\n",
        "    def _startScan(self):\n",
        "        if not self.multiBot:\n",
        "            self.scanSubreddit(self.botConfig[0], subReddits)\n",
        "            return\n",
        "\n",
        "        sub_copy = subReddits.copy()\n",
        "        random.shuffle(sub_copy)\n",
        "        bot_count = len(self.botConfig)\n",
        "        jobs = [[] for _ in range(bot_count)]\n",
        "\n",
        "        for sub in sub_copy:\n",
        "            rand_idx = random.randint(0, bot_count - 1)\n",
        "            jobs[rand_idx].append(sub)\n",
        "\n",
        "        threads = []\n",
        "        for bot, sub_list in zip(self.botConfig, jobs):\n",
        "            if sub_list:\n",
        "                t = threading.Thread(target=self.scanSubreddit, args=(bot, sub_list))\n",
        "                t.start()\n",
        "                threads.append(t)\n",
        "\n",
        "        for t in threads:\n",
        "            t.join()\n",
        "\n",
        "# --- Init DB and Run ---\n",
        "initDB()\n",
        "demo = BotDemo()\n",
        "demo._startScan()\n"
      ],
      "metadata": {
        "colab": {
          "base_uri": "https://localhost:8080/",
          "height": 1000
        },
        "id": "Phujgs56eLYj",
        "outputId": "4081fc0d-72e5-4619-888b-3c3496be5064"
      },
      "execution_count": 24,
      "outputs": [
        {
          "output_type": "stream",
          "name": "stderr",
          "text": [
            "WARNING:praw:It appears that you are using PRAW in an asynchronous environment.\n",
            "It is strongly recommended to use Async PRAW: https://asyncpraw.readthedocs.io.\n",
            "See https://praw.readthedocs.io/en/latest/getting_started/multiple_instances.html#discord-bots-and-asynchronous-environments for more info.\n",
            "\n"
          ]
        },
        {
          "output_type": "stream",
          "name": "stdout",
          "text": [
            "[Ok_Succotash2381] Scanning /r/India\n",
            "  ❌ [Ok_Succotash2381] Not relevant: Thar Driver Deliberately Rams Into Elderly Man After Hitting His Scooter\n",
            "  ❌ [Ok_Succotash2381] Not relevant: Worst day of my life – never imagined this over a rent dispute\n",
            "  ❌ [Ok_Succotash2381] Not relevant: Indian news channels should expose companies exploiting job seekers through fake \"assignments\" in hiring processes\n",
            "  ❌ [Ok_Succotash2381] Not relevant: A Jammu family’s fight to get their mother back from Pakistan | In India on a long-term visa since 1989, Rakshanda Rashid was deported after the Pahalgam attack. The Centre has challenged a HC order to repatriate her.\n",
            "  ❌ [Ok_Succotash2381] Not relevant: Woman migrant worker, minor son ‘beaten up’ by Delhi police\n",
            "  ❌ [Ok_Succotash2381] Not relevant: General Manager of HR manhandled and obstructed my movement - what are my legal options?\n",
            "  ❌ [Ok_Succotash2381] Not relevant: Infosys is utterly bad\n",
            "  ❌ [Ok_Succotash2381] Not relevant: Frequent delivery issues on amazon\n",
            "  ✅ [Ok_Succotash2381] Relevant: 'Double-Engine Govt Has Betrayed Odisha': Naveen Patnaik Slams BJP Govt For Scrapping Bhubaneswar Metro Project (score: 0.47)\n"
          ]
        },
        {
          "output_type": "stream",
          "name": "stderr",
          "text": [
            "WARNING:praw:It appears that you are using PRAW in an asynchronous environment.\n",
            "It is strongly recommended to use Async PRAW: https://asyncpraw.readthedocs.io.\n",
            "See https://praw.readthedocs.io/en/latest/getting_started/multiple_instances.html#discord-bots-and-asynchronous-environments for more info.\n",
            "\n"
          ]
        },
        {
          "output_type": "stream",
          "name": "stdout",
          "text": [
            "    💬 Commented: /r/india/comments/1mbhg8c/doubleengine_govt_has_betrayed_odisha_naveen/n5msxjp/\n",
            "  ❌ [Ok_Succotash2381] Not relevant: My uncle is battling for his life, please read\n"
          ]
        },
        {
          "output_type": "stream",
          "name": "stderr",
          "text": [
            "WARNING:praw:It appears that you are using PRAW in an asynchronous environment.\n",
            "It is strongly recommended to use Async PRAW: https://asyncpraw.readthedocs.io.\n",
            "See https://praw.readthedocs.io/en/latest/getting_started/multiple_instances.html#discord-bots-and-asynchronous-environments for more info.\n",
            "\n"
          ]
        },
        {
          "output_type": "stream",
          "name": "stdout",
          "text": [
            "  ❌ [Ok_Succotash2381] Not relevant: Thar Driver Deliberately Rams Into Elderly Man After Hitting His Scooter\n",
            "  ❌ [Ok_Succotash2381] Not relevant: Worst day of my life – never imagined this over a rent dispute\n",
            "  ❌ [Ok_Succotash2381] Not relevant: Indian news channels should expose companies exploiting job seekers through fake \"assignments\" in hiring processes\n",
            "  ❌ [Ok_Succotash2381] Not relevant: A Jammu family’s fight to get their mother back from Pakistan | In India on a long-term visa since 1989, Rakshanda Rashid was deported after the Pahalgam attack. The Centre has challenged a HC order to repatriate her.\n",
            "  ❌ [Ok_Succotash2381] Not relevant: Woman migrant worker, minor son ‘beaten up’ by Delhi police\n",
            "  ❌ [Ok_Succotash2381] Not relevant: General Manager of HR manhandled and obstructed my movement - what are my legal options?\n",
            "  ❌ [Ok_Succotash2381] Not relevant: Infosys is utterly bad\n",
            "  ❌ [Ok_Succotash2381] Not relevant: Frequent delivery issues on amazon\n",
            "  ✅ [Ok_Succotash2381] Relevant: 'Double-Engine Govt Has Betrayed Odisha': Naveen Patnaik Slams BJP Govt For Scrapping Bhubaneswar Metro Project (score: 0.47)\n"
          ]
        },
        {
          "output_type": "stream",
          "name": "stderr",
          "text": [
            "WARNING:praw:It appears that you are using PRAW in an asynchronous environment.\n",
            "It is strongly recommended to use Async PRAW: https://asyncpraw.readthedocs.io.\n",
            "See https://praw.readthedocs.io/en/latest/getting_started/multiple_instances.html#discord-bots-and-asynchronous-environments for more info.\n",
            "\n"
          ]
        },
        {
          "output_type": "stream",
          "name": "stdout",
          "text": [
            "    ❌ Failed to comment: RATELIMIT: \"Looks like you've been doing that a lot. Take a break for 9 minutes before trying again.\" on field 'ratelimit'\n",
            "  ❌ [Ok_Succotash2381] Not relevant: My uncle is battling for his life, please read\n"
          ]
        },
        {
          "output_type": "stream",
          "name": "stderr",
          "text": [
            "WARNING:praw:It appears that you are using PRAW in an asynchronous environment.\n",
            "It is strongly recommended to use Async PRAW: https://asyncpraw.readthedocs.io.\n",
            "See https://praw.readthedocs.io/en/latest/getting_started/multiple_instances.html#discord-bots-and-asynchronous-environments for more info.\n",
            "\n"
          ]
        },
        {
          "output_type": "stream",
          "name": "stdout",
          "text": [
            "  ❌ [Ok_Succotash2381] Not relevant: Thar Driver Deliberately Rams Into Elderly Man After Hitting His Scooter\n",
            "  ❌ [Ok_Succotash2381] Not relevant: Worst day of my life – never imagined this over a rent dispute\n",
            "  ❌ [Ok_Succotash2381] Not relevant: Indian news channels should expose companies exploiting job seekers through fake \"assignments\" in hiring processes\n",
            "  ❌ [Ok_Succotash2381] Not relevant: A Jammu family’s fight to get their mother back from Pakistan | In India on a long-term visa since 1989, Rakshanda Rashid was deported after the Pahalgam attack. The Centre has challenged a HC order to repatriate her.\n",
            "  ❌ [Ok_Succotash2381] Not relevant: Woman migrant worker, minor son ‘beaten up’ by Delhi police\n",
            "  ❌ [Ok_Succotash2381] Not relevant: General Manager of HR manhandled and obstructed my movement - what are my legal options?\n",
            "  ❌ [Ok_Succotash2381] Not relevant: Infosys is utterly bad\n",
            "  ❌ [Ok_Succotash2381] Not relevant: Frequent delivery issues on amazon\n",
            "  ✅ [Ok_Succotash2381] Relevant: 'Double-Engine Govt Has Betrayed Odisha': Naveen Patnaik Slams BJP Govt For Scrapping Bhubaneswar Metro Project (score: 0.47)\n"
          ]
        },
        {
          "output_type": "stream",
          "name": "stderr",
          "text": [
            "WARNING:praw:It appears that you are using PRAW in an asynchronous environment.\n",
            "It is strongly recommended to use Async PRAW: https://asyncpraw.readthedocs.io.\n",
            "See https://praw.readthedocs.io/en/latest/getting_started/multiple_instances.html#discord-bots-and-asynchronous-environments for more info.\n",
            "\n",
            "WARNING:praw:It appears that you are using PRAW in an asynchronous environment.\n",
            "It is strongly recommended to use Async PRAW: https://asyncpraw.readthedocs.io.\n",
            "See https://praw.readthedocs.io/en/latest/getting_started/multiple_instances.html#discord-bots-and-asynchronous-environments for more info.\n",
            "\n"
          ]
        },
        {
          "output_type": "stream",
          "name": "stdout",
          "text": [
            "    ❌ Failed to comment: RATELIMIT: \"Looks like you've been doing that a lot. Take a break for 9 minutes before trying again.\" on field 'ratelimit'\n"
          ]
        },
        {
          "output_type": "stream",
          "name": "stderr",
          "text": [
            "WARNING:praw:It appears that you are using PRAW in an asynchronous environment.\n",
            "It is strongly recommended to use Async PRAW: https://asyncpraw.readthedocs.io.\n",
            "See https://praw.readthedocs.io/en/latest/getting_started/multiple_instances.html#discord-bots-and-asynchronous-environments for more info.\n",
            "\n"
          ]
        },
        {
          "output_type": "stream",
          "name": "stdout",
          "text": [
            "[Ok_Succotash2381] Scanning /r/AskReddit\n",
            "  ❌ [Ok_Succotash2381] Not relevant: What are you doing on your phone when walking around?\n",
            "  ❌ [Ok_Succotash2381] Not relevant: If you found out you had a serious, hard‑to‑treat illness and were told you only had a few months left to live — with a 14‑year‑old daughter, no father in the picture, but a sister by your side — how would you spend the time you have left? What advice would you give to someone in that situation?\n",
            "  ❌ [Ok_Succotash2381] Not relevant: What do you do to study for longer periods of time without getting distracted ?\n",
            "  ❌ [Ok_Succotash2381] Not relevant: What fashion trends do you think should make a comeback, and which ones should stay gone forever?\n",
            "  ❌ [Ok_Succotash2381] Not relevant: What do you have in your pockets RIGHT NOW?\n",
            "  ❌ [Ok_Succotash2381] Not relevant: What’s something you do everyday you wish you could get an allowance for?\n",
            "  ❌ [Ok_Succotash2381] Not relevant: If they held another LiveAid charity concert in 2025, who would perform?\n",
            "  ❌ [Ok_Succotash2381] Not relevant: What flower do you find most beautiful or intriguing?\n"
          ]
        },
        {
          "output_type": "stream",
          "name": "stderr",
          "text": [
            "WARNING:praw:It appears that you are using PRAW in an asynchronous environment.\n",
            "It is strongly recommended to use Async PRAW: https://asyncpraw.readthedocs.io.\n",
            "See https://praw.readthedocs.io/en/latest/getting_started/multiple_instances.html#discord-bots-and-asynchronous-environments for more info.\n",
            "\n"
          ]
        },
        {
          "output_type": "stream",
          "name": "stdout",
          "text": [
            "  ❌ [Ok_Succotash2381] Not relevant: What are you doing on your phone when walking around?\n",
            "  ❌ [Ok_Succotash2381] Not relevant: If you found out you had a serious, hard‑to‑treat illness and were told you only had a few months left to live — with a 14‑year‑old daughter, no father in the picture, but a sister by your side — how would you spend the time you have left? What advice would you give to someone in that situation?\n",
            "  ❌ [Ok_Succotash2381] Not relevant: What do you do to study for longer periods of time without getting distracted ?\n",
            "  ❌ [Ok_Succotash2381] Not relevant: What fashion trends do you think should make a comeback, and which ones should stay gone forever?\n",
            "  ❌ [Ok_Succotash2381] Not relevant: What do you have in your pockets RIGHT NOW?\n",
            "  ❌ [Ok_Succotash2381] Not relevant: What’s something you do everyday you wish you could get an allowance for?\n",
            "  ❌ [Ok_Succotash2381] Not relevant: If they held another LiveAid charity concert in 2025, who would perform?\n",
            "  ❌ [Ok_Succotash2381] Not relevant: What flower do you find most beautiful or intriguing?\n"
          ]
        },
        {
          "output_type": "stream",
          "name": "stderr",
          "text": [
            "WARNING:praw:It appears that you are using PRAW in an asynchronous environment.\n",
            "It is strongly recommended to use Async PRAW: https://asyncpraw.readthedocs.io.\n",
            "See https://praw.readthedocs.io/en/latest/getting_started/multiple_instances.html#discord-bots-and-asynchronous-environments for more info.\n",
            "\n"
          ]
        },
        {
          "output_type": "stream",
          "name": "stdout",
          "text": [
            "  ❌ [Ok_Succotash2381] Not relevant: Do you collect or play Pokemon & when did you start ?\n",
            "  ❌ [Ok_Succotash2381] Not relevant: What are you doing on your phone when walking around?\n",
            "  ❌ [Ok_Succotash2381] Not relevant: If you found out you had a serious, hard‑to‑treat illness and were told you only had a few months left to live — with a 14‑year‑old daughter, no father in the picture, but a sister by your side — how would you spend the time you have left? What advice would you give to someone in that situation?\n",
            "  ❌ [Ok_Succotash2381] Not relevant: What do you do to study for longer periods of time without getting distracted ?\n",
            "  ❌ [Ok_Succotash2381] Not relevant: What fashion trends do you think should make a comeback, and which ones should stay gone forever?\n",
            "  ❌ [Ok_Succotash2381] Not relevant: What do you have in your pockets RIGHT NOW?\n",
            "  ❌ [Ok_Succotash2381] Not relevant: What’s something you do everyday you wish you could get an allowance for?\n",
            "  ❌ [Ok_Succotash2381] Not relevant: If they held another LiveAid charity concert in 2025, who would perform?\n"
          ]
        },
        {
          "output_type": "stream",
          "name": "stderr",
          "text": [
            "WARNING:praw:It appears that you are using PRAW in an asynchronous environment.\n",
            "It is strongly recommended to use Async PRAW: https://asyncpraw.readthedocs.io.\n",
            "See https://praw.readthedocs.io/en/latest/getting_started/multiple_instances.html#discord-bots-and-asynchronous-environments for more info.\n",
            "\n"
          ]
        },
        {
          "output_type": "stream",
          "name": "stdout",
          "text": [
            "  ❌ [Ok_Succotash2381] Not relevant: Do you collect or play Pokemon & when did you start ?\n",
            "  ❌ [Ok_Succotash2381] Not relevant: What are you doing on your phone when walking around?\n",
            "  ❌ [Ok_Succotash2381] Not relevant: If you found out you had a serious, hard‑to‑treat illness and were told you only had a few months left to live — with a 14‑year‑old daughter, no father in the picture, but a sister by your side — how would you spend the time you have left? What advice would you give to someone in that situation?\n",
            "  ❌ [Ok_Succotash2381] Not relevant: What do you do to study for longer periods of time without getting distracted ?\n",
            "  ❌ [Ok_Succotash2381] Not relevant: What fashion trends do you think should make a comeback, and which ones should stay gone forever?\n",
            "  ❌ [Ok_Succotash2381] Not relevant: What do you have in your pockets RIGHT NOW?\n",
            "  ❌ [Ok_Succotash2381] Not relevant: What’s something you do everyday you wish you could get an allowance for?\n",
            "  ❌ [Ok_Succotash2381] Not relevant: If they held another LiveAid charity concert in 2025, who would perform?\n"
          ]
        },
        {
          "output_type": "stream",
          "name": "stderr",
          "text": [
            "WARNING:praw:It appears that you are using PRAW in an asynchronous environment.\n",
            "It is strongly recommended to use Async PRAW: https://asyncpraw.readthedocs.io.\n",
            "See https://praw.readthedocs.io/en/latest/getting_started/multiple_instances.html#discord-bots-and-asynchronous-environments for more info.\n",
            "\n"
          ]
        },
        {
          "output_type": "stream",
          "name": "stdout",
          "text": [
            "  ❌ [Ok_Succotash2381] Not relevant: If you could be a actor in the next part of a movie franchise that you love . Which movie franchise would you pick and why?\n",
            "  ❌ [Ok_Succotash2381] Not relevant: Do you collect or play Pokemon & when did you start ?\n",
            "  ❌ [Ok_Succotash2381] Not relevant: What are you doing on your phone when walking around?\n",
            "  ❌ [Ok_Succotash2381] Not relevant: If you found out you had a serious, hard‑to‑treat illness and were told you only had a few months left to live — with a 14‑year‑old daughter, no father in the picture, but a sister by your side — how would you spend the time you have left? What advice would you give to someone in that situation?\n",
            "  ❌ [Ok_Succotash2381] Not relevant: What do you do to study for longer periods of time without getting distracted ?\n",
            "  ❌ [Ok_Succotash2381] Not relevant: What fashion trends do you think should make a comeback, and which ones should stay gone forever?\n",
            "  ❌ [Ok_Succotash2381] Not relevant: What do you have in your pockets RIGHT NOW?\n",
            "  ❌ [Ok_Succotash2381] Not relevant: What’s something you do everyday you wish you could get an allowance for?\n",
            "  ❌ [Ok_Succotash2381] Not relevant: If they held another LiveAid charity concert in 2025, who would perform?\n"
          ]
        }
      ]
    }
  ]
}